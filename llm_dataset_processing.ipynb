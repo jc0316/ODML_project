{
 "cells": [
  {
   "cell_type": "markdown",
   "metadata": {},
   "source": [
    "I ran this on Databricks PySpark"
   ]
  },
  {
   "cell_type": "code",
   "execution_count": 1,
   "metadata": {},
   "outputs": [],
   "source": [
    "from datasets import load_dataset_builder\n",
    "from psutil._common import bytes2human\n",
    "from datasets import load_dataset"
   ]
  },
  {
   "cell_type": "code",
   "execution_count": 2,
   "metadata": {},
   "outputs": [
    {
     "name": "stdout",
     "output_type": "stream",
     "text": [
      "download_size=37.2M, dataset_size=95.4M\n"
     ]
    }
   ],
   "source": [
    "def print_dataset_size_if_provided(*args, **kwargs):\n",
    "  dataset_builder = load_dataset_builder(*args, **kwargs)\n",
    "\n",
    "  if dataset_builder.info.download_size and dataset_builder.info.dataset_size:\n",
    "    print(f'download_size={bytes2human(dataset_builder.info.download_size)}, dataset_size={bytes2human(dataset_builder.info.dataset_size)}')\n",
    "  else:\n",
    "    print('Dataset size is not provided by uploader')\n",
    "\n",
    "print_dataset_size_if_provided(\"community-datasets/generics_kb\", \"generics_kb_best\")"
   ]
  },
  {
   "cell_type": "code",
   "execution_count": 3,
   "metadata": {},
   "outputs": [],
   "source": [
    "ds = load_dataset(\"community-datasets/generics_kb\", \"generics_kb_best\")"
   ]
  },
  {
   "cell_type": "code",
   "execution_count": 4,
   "metadata": {},
   "outputs": [
    {
     "name": "stdout",
     "output_type": "stream",
     "text": [
      "Index(['source', 'term', 'quantifier_frequency', 'quantifier_number',\n",
      "       'generic_sentence', 'score'],\n",
      "      dtype='object')\n",
      "              term                                   generic_sentence\n",
      "0       aa battery  AA batteries maintain the settings if the powe...\n",
      "1  aardvark female  Aardvark females appear to come into season on...\n",
      "2    aardvark hole  Aardvark holes are used by small buck as a res...\n",
      "3    aardvark skin        Aardvark skin is thick and sparsely haired.\n",
      "4         aardvark                               Aardvark isa mammal.\n",
      "1020868\n"
     ]
    }
   ],
   "source": [
    "df = ds[\"train\"].to_pandas()\n",
    "\n",
    "# Print the first 5 rows\n",
    "print(df.columns)\n",
    "print(df.iloc[0:5][[\"term\", \"generic_sentence\"]])\n",
    "print(len(df))\n",
    "df = df[[\"term\", \"generic_sentence\"]]"
   ]
  },
  {
   "cell_type": "code",
   "execution_count": 5,
   "metadata": {},
   "outputs": [
    {
     "name": "stderr",
     "output_type": "stream",
     "text": [
      "C:\\Users\\Johnny Chen\\AppData\\Local\\Temp\\ipykernel_10012\\981116973.py:4: FutureWarning: The default value of regex will change from True to False in a future version.\n",
      "  df[\"generic_sentence\"] = df[\"generic_sentence\"].str.replace(r'[^\\w\\s]', '')\n"
     ]
    }
   ],
   "source": [
    "# Lowercase the terms\n",
    "df[\"term\"] = df[\"term\"].str.lower()\n",
    "# Remove punctuation\n",
    "df[\"generic_sentence\"] = df[\"generic_sentence\"].str.replace(r'[^\\w\\s]', '')\n",
    "\n",
    "# Deduplicate\n",
    "df = df.drop_duplicates()"
   ]
  },
  {
   "cell_type": "code",
   "execution_count": 6,
   "metadata": {},
   "outputs": [
    {
     "name": "stdout",
     "output_type": "stream",
     "text": [
      "        term                         generic_sentence\n",
      "5   aardvark           Aardvarks also dig to get food\n",
      "8   aardvark       Aardvarks are a nocturnal creature\n",
      "11  aardvark                    Aardvarks are animals\n",
      "13  aardvark         Aardvarks are capable of burrows\n",
      "23  aardvark                    Aardvarks are mammals\n",
      "29  aardvark                  Aardvarks are nocturnal\n",
      "31  aardvark                 Aardvarks are placentals\n",
      "32  aardvark           Aardvarks are powerful animals\n",
      "34  aardvark                 Aardvarks are quadrupeds\n",
      "44  aardvark                Aardvarks are vertebrates\n",
      "45  aardvark        Aardvarks are very gentle animals\n",
      "46  aardvark                    Aardvarks dig burrows\n",
      "49  aardvark           Aardvarks eat first solid food\n",
      "51  aardvark                    Aardvarks eat insects\n",
      "52  aardvark  Aardvarks eat mostly ants and termites \n",
      "53  aardvark   Aardvarks eat mostly ants and termites\n",
      "54  aardvark                 Aardvarks eat solid food\n",
      "55  aardvark          Aardvarks eat termites and ants\n",
      "56  aardvark                   Aardvarks eat termites\n",
      "57  aardvark            Aardvarks emerge from burrows\n",
      "378861\n"
     ]
    }
   ],
   "source": [
    "# Filter out rows with terms and sentences that are too short or too long\n",
    "df = df[(df[\"term\"].apply(len) >= 3) & (df[\"term\"].apply(len) <= 20)]\n",
    "df = df[(df[\"generic_sentence\"].apply(len) >= 20) & (df[\"generic_sentence\"].apply(len) <= 40)]\n",
    "print(df.iloc[0:20][[\"term\", \"generic_sentence\"]])\n",
    "print(len(df))"
   ]
  },
  {
   "cell_type": "code",
   "execution_count": 7,
   "metadata": {},
   "outputs": [
    {
     "name": "stdout",
     "output_type": "stream",
     "text": [
      "            term                          generic_sentence\n",
      "5       aardvark            Aardvarks also dig to get food\n",
      "8       aardvark        Aardvarks are a nocturnal creature\n",
      "11      aardvark                     Aardvarks are animals\n",
      "198     aardwolf                Aardwolfs consume termites\n",
      "199     aardwolf                Aardwolfs have part brains\n",
      "200     aardwolf               Aardwolfs have part breasts\n",
      "298          aba            ABA is incorporated in Florida\n",
      "302          aba           ABA is the science of behavior \n",
      "306          aba  ABA is used to change a persons behavior\n",
      "318       abacus        An abacus is a calculating machine\n",
      "323      abalone            Abalone are in peril worldwide\n",
      "325      abalone                 Abalone are marine snails\n",
      "326      abalone    Abalone are nocturnal  active at night\n",
      "356  abandonment                  Abandonment is disposals\n",
      "357  abandonment                  Abandonment is rejection\n",
      "360    abasement        Abasement is as infinite as desire\n",
      "361    abasement                  Abasement is humiliation\n",
      "363    abatement                   Abatement is mitigation\n",
      "364    abatement                   Abatement is moderation\n",
      "365    abatement                    Abatement is nuisances\n",
      "98403\n"
     ]
    }
   ],
   "source": [
    "# Each term has multiple generic sentences. We will only keep the first few\n",
    "df = df.groupby(\"term\").head(3)\n",
    "print(df.iloc[0:20][[\"term\", \"generic_sentence\"]])\n",
    "print(len(df))"
   ]
  },
  {
   "cell_type": "code",
   "execution_count": 8,
   "metadata": {},
   "outputs": [
    {
     "data": {
      "text/html": [
       "<div>\n",
       "<style scoped>\n",
       "    .dataframe tbody tr th:only-of-type {\n",
       "        vertical-align: middle;\n",
       "    }\n",
       "\n",
       "    .dataframe tbody tr th {\n",
       "        vertical-align: top;\n",
       "    }\n",
       "\n",
       "    .dataframe thead th {\n",
       "        text-align: right;\n",
       "    }\n",
       "</style>\n",
       "<table border=\"1\" class=\"dataframe\">\n",
       "  <thead>\n",
       "    <tr style=\"text-align: right;\">\n",
       "      <th></th>\n",
       "      <th>term</th>\n",
       "      <th>generic_sentence</th>\n",
       "    </tr>\n",
       "  </thead>\n",
       "  <tbody>\n",
       "    <tr>\n",
       "      <th>5</th>\n",
       "      <td>aardvark</td>\n",
       "      <td>Aardvarks also dig to get food</td>\n",
       "    </tr>\n",
       "    <tr>\n",
       "      <th>8</th>\n",
       "      <td>aardvark</td>\n",
       "      <td>Aardvarks are a nocturnal creature</td>\n",
       "    </tr>\n",
       "    <tr>\n",
       "      <th>11</th>\n",
       "      <td>aardvark</td>\n",
       "      <td>Aardvarks are animals</td>\n",
       "    </tr>\n",
       "    <tr>\n",
       "      <th>198</th>\n",
       "      <td>aardwolf</td>\n",
       "      <td>Aardwolfs consume termites</td>\n",
       "    </tr>\n",
       "    <tr>\n",
       "      <th>199</th>\n",
       "      <td>aardwolf</td>\n",
       "      <td>Aardwolfs have part brains</td>\n",
       "    </tr>\n",
       "    <tr>\n",
       "      <th>...</th>\n",
       "      <td>...</td>\n",
       "      <td>...</td>\n",
       "    </tr>\n",
       "    <tr>\n",
       "      <th>1020832</th>\n",
       "      <td>zygote</td>\n",
       "      <td>Zygotes are created by fertilization</td>\n",
       "    </tr>\n",
       "    <tr>\n",
       "      <th>1020834</th>\n",
       "      <td>zygote</td>\n",
       "      <td>Zygotes are embryology</td>\n",
       "    </tr>\n",
       "    <tr>\n",
       "      <th>1020862</th>\n",
       "      <td>zygotic gene</td>\n",
       "      <td>Zygotic genes pattern the early embryo</td>\n",
       "    </tr>\n",
       "    <tr>\n",
       "      <th>1020866</th>\n",
       "      <td>zyplar soil</td>\n",
       "      <td>Zyplar soils are on pediments</td>\n",
       "    </tr>\n",
       "    <tr>\n",
       "      <th>1020867</th>\n",
       "      <td>zyplar soil</td>\n",
       "      <td>Zyplar soils are on rock pediments</td>\n",
       "    </tr>\n",
       "  </tbody>\n",
       "</table>\n",
       "<p>98403 rows × 2 columns</p>\n",
       "</div>"
      ],
      "text/plain": [
       "                 term                        generic_sentence\n",
       "5            aardvark          Aardvarks also dig to get food\n",
       "8            aardvark      Aardvarks are a nocturnal creature\n",
       "11           aardvark                   Aardvarks are animals\n",
       "198          aardwolf              Aardwolfs consume termites\n",
       "199          aardwolf              Aardwolfs have part brains\n",
       "...               ...                                     ...\n",
       "1020832        zygote    Zygotes are created by fertilization\n",
       "1020834        zygote                  Zygotes are embryology\n",
       "1020862  zygotic gene  Zygotic genes pattern the early embryo\n",
       "1020866   zyplar soil           Zyplar soils are on pediments\n",
       "1020867   zyplar soil      Zyplar soils are on rock pediments\n",
       "\n",
       "[98403 rows x 2 columns]"
      ]
     },
     "metadata": {},
     "output_type": "display_data"
    }
   ],
   "source": [
    "# Save the dataset\n",
    "display(df)\n",
    "# Saved as data/generic_sentences.csv\n",
    "# Turns out the dataset is full of \"Noun\" is blablabla type of sentences. Not very useful"
   ]
  },
  {
   "cell_type": "markdown",
   "metadata": {},
   "source": [
    "This I ran locally"
   ]
  },
  {
   "cell_type": "code",
   "execution_count": 9,
   "metadata": {},
   "outputs": [],
   "source": [
    "ds = load_dataset(\"iastate/onestop_english\")\n",
    "\n",
    "df = ds[\"train\"].to_pandas()"
   ]
  },
  {
   "cell_type": "code",
   "execution_count": 10,
   "metadata": {},
   "outputs": [
    {
     "name": "stdout",
     "output_type": "stream",
     "text": [
      "567\n",
      "27412\n"
     ]
    },
    {
     "name": "stderr",
     "output_type": "stream",
     "text": [
      "C:\\Users\\Johnny Chen\\AppData\\Local\\Temp\\ipykernel_10012\\1255900053.py:9: FutureWarning: The default value of regex will change from True to False in a future version.\n",
      "  df[\"text\"] = df[\"text\"].str.replace(r'[^a-zA-Z0-9\\s]', '').str.strip()\n"
     ]
    }
   ],
   "source": [
    "df = df[[\"text\"]]\n",
    "print(len(df))\n",
    "\n",
    "# Split it by sentence and period\n",
    "df = df[\"text\"].str.split(\"\\n\", expand=True).stack().reset_index(level=1, drop=True).reset_index().rename(columns={0: \"text\"})\n",
    "df = df[\"text\"].str.split(\".\", expand=True).stack().reset_index(level=1, drop=True).reset_index().rename(columns={0: \"text\"})\n",
    "\n",
    "# Only keep alphanumeric characters\n",
    "df[\"text\"] = df[\"text\"].str.replace(r'[^a-zA-Z0-9\\s]', '').str.strip()\n",
    "\n",
    "print(len(df))"
   ]
  },
  {
   "cell_type": "code",
   "execution_count": 11,
   "metadata": {},
   "outputs": [
    {
     "name": "stdout",
     "output_type": "stream",
     "text": [
      "count    27412.000000\n",
      "mean        78.844119\n",
      "std         69.536195\n",
      "min          0.000000\n",
      "25%          0.000000\n",
      "50%         73.000000\n",
      "75%        123.000000\n",
      "max        811.000000\n",
      "Name: length, dtype: float64\n"
     ]
    }
   ],
   "source": [
    "# Calculate the length of each sentence\n",
    "df[\"length\"] = df[\"text\"].apply(len)\n",
    "print(df[\"length\"].describe())"
   ]
  },
  {
   "cell_type": "code",
   "execution_count": 12,
   "metadata": {},
   "outputs": [
    {
     "name": "stdout",
     "output_type": "stream",
     "text": [
      "10107\n"
     ]
    }
   ],
   "source": [
    "df = df[(df[\"length\"] <= 100) & (df[\"length\"] >= 20)]\n",
    "print(len(df))"
   ]
  },
  {
   "cell_type": "code",
   "execution_count": 13,
   "metadata": {},
   "outputs": [],
   "source": [
    "from textnoisr import noise\n",
    "\n",
    "def add_noise(text):\n",
    "    augmenter = noise.CharNoiseAugmenter(noise_level=0.1)\n",
    "    text = augmenter.add_noise(text)\n",
    "    return text"
   ]
  },
  {
   "cell_type": "code",
   "execution_count": 14,
   "metadata": {},
   "outputs": [],
   "source": [
    "df[\"noisy_text\"] = df[\"text\"].apply(add_noise)"
   ]
  },
  {
   "cell_type": "code",
   "execution_count": 15,
   "metadata": {},
   "outputs": [
    {
     "name": "stdout",
     "output_type": "stream",
     "text": [
      "                                                text  \\\n",
      "1  These are the questions in a debate about the ...   \n",
      "\n",
      "                                          noisy_text  \n",
      "1  These arerthe quetMios n a debaWe aou the inte...  \n"
     ]
    }
   ],
   "source": [
    "print(df.iloc[0:1][[\"text\", \"noisy_text\"]])"
   ]
  },
  {
   "cell_type": "code",
   "execution_count": 16,
   "metadata": {},
   "outputs": [],
   "source": [
    "df = df[[\"text\", \"noisy_text\"]].reset_index(drop=True)\n",
    "df.to_csv(\"data/onestop_english_sentences.csv\", index=False)"
   ]
  },
  {
   "cell_type": "code",
   "execution_count": 17,
   "metadata": {},
   "outputs": [],
   "source": [
    "# Convert to ShareGPT style\n",
    "\n",
    "\n",
    "def convert(row):\n",
    "\n",
    "    def convert_human(s):\n",
    "        output = {\n",
    "            \"from\": \"human\",\n",
    "            \"value\": \"Correct this sentence: \" + s\n",
    "        }\n",
    "\n",
    "        return output\n",
    "\n",
    "    def convert_gpt(s):\n",
    "        output = {\n",
    "            \"from\": \"gpt\",\n",
    "            \"value\": s\n",
    "        }\n",
    "\n",
    "        return output\n",
    "\n",
    "    return [convert_human(row[\"noisy_text\"]), convert_gpt(row[\"text\"])]\n",
    "\n",
    "df[\"conversations\"] = df.apply(convert, axis=1)"
   ]
  },
  {
   "cell_type": "code",
   "execution_count": 18,
   "metadata": {},
   "outputs": [],
   "source": [
    "df = df[[\"conversations\"]]\n",
    "df.to_csv(\"data/onestop_english_sentences_sharegpt.csv\", index=False)"
   ]
  }
 ],
 "metadata": {
  "kernelspec": {
   "display_name": "p3-env",
   "language": "python",
   "name": "python3"
  },
  "language_info": {
   "codemirror_mode": {
    "name": "ipython",
    "version": 3
   },
   "file_extension": ".py",
   "mimetype": "text/x-python",
   "name": "python",
   "nbconvert_exporter": "python",
   "pygments_lexer": "ipython3",
   "version": "3.8.19"
  }
 },
 "nbformat": 4,
 "nbformat_minor": 2
}
