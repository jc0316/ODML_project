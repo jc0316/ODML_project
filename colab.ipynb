{
 "cells": [
  {
   "cell_type": "code",
   "execution_count": null,
   "metadata": {},
   "outputs": [],
   "source": [
    "from google.colab import drive\n",
    "drive.mount('/content/drive')\n",
    "\n",
    "# Now you can access your Drive files using the path '/content/drive/My Drive/'\n",
    "# For example, to access the \"ODML\" folder:\n",
    "import os\n",
    "odml_folder = '/content/drive/My Drive/ODML'\n",
    "\n",
    "if os.path.exists(odml_folder):\n",
    "  print(f\"Successfully connected to '{odml_folder}'\")\n",
    "else:\n",
    "  print(f\"Could not find '{odml_folder}'\")\n",
    "\n",
    "\n",
    "# Change directory to the ODML folder\n",
    "os.chdir(odml_folder)\n",
    "\n",
    "# If the repository doesn't exist yet, clone it\n",
    "if not os.path.exists(\".git\"):\n",
    "  !git clone https://github.com/jc0316/ODML_project.git .\n",
    "\n",
    "# Force the latest changes\n",
    "!git -C . pull"
   ]
  }
 ],
 "metadata": {
  "language_info": {
   "name": "python"
  }
 },
 "nbformat": 4,
 "nbformat_minor": 2
}
