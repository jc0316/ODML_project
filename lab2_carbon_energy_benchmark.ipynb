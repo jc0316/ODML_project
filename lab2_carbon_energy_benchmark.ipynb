{
  "cells": [
    {
      "cell_type": "code",
      "execution_count": 2,
      "metadata": {
        "colab": {
          "base_uri": "https://localhost:8080/",
          "height": 122
        },
        "id": "TNGoY-406UtM",
        "outputId": "887d1ab0-cd84-4649-a659-bb6ba0b884f0"
      },
      "outputs": [
        {
          "output_type": "execute_result",
          "data": {
            "text/plain": [
              "'from google.colab import drive\\ndrive.mount(\\'/content/drive\\')\\n\\n# Now you can access your Drive files using the path \\'/content/drive/My Drive/\\'\\n# For example, to access the \"ODML\" folder:\\nimport os\\nodml_folder = \\'/content/drive/My Drive/ODML\\'\\n\\nif os.path.exists(odml_folder):\\n  print(f\"Successfully connected to \\'{odml_folder}\\'\")\\nelse:\\n  print(f\"Could not find \\'{odml_folder}\\'\")\\n\\n\\n# Change directory to the ODML folder\\nos.chdir(odml_folder)\\n!pip install torchprofile'"
            ],
            "application/vnd.google.colaboratory.intrinsic+json": {
              "type": "string"
            }
          },
          "metadata": {},
          "execution_count": 2
        }
      ],
      "source": [
        "\"\"\"from google.colab import drive\n",
        "drive.mount('/content/drive')\n",
        "\n",
        "# Now you can access your Drive files using the path '/content/drive/My Drive/'\n",
        "# For example, to access the \"ODML\" folder:\n",
        "import os\n",
        "odml_folder = '/content/drive/My Drive/ODML'\n",
        "\n",
        "if os.path.exists(odml_folder):\n",
        "  print(f\"Successfully connected to '{odml_folder}'\")\n",
        "else:\n",
        "  print(f\"Could not find '{odml_folder}'\")\n",
        "\n",
        "\n",
        "# Change directory to the ODML folder\n",
        "os.chdir(odml_folder)\n",
        "!pip install torchprofile\"\"\""
      ]
    },
    {
      "cell_type": "code",
      "source": [
        "!pip install torchprofile"
      ],
      "metadata": {
        "colab": {
          "base_uri": "https://localhost:8080/"
        },
        "id": "OGnEoflQ7fCY",
        "outputId": "1022e5a5-1127-41eb-bcf2-d21aa507e988"
      },
      "execution_count": 3,
      "outputs": [
        {
          "output_type": "stream",
          "name": "stdout",
          "text": [
            "Requirement already satisfied: torchprofile in /usr/local/lib/python3.10/dist-packages (0.0.4)\n",
            "Requirement already satisfied: numpy>=1.14 in /usr/local/lib/python3.10/dist-packages (from torchprofile) (1.26.4)\n",
            "Requirement already satisfied: torch>=1.4 in /usr/local/lib/python3.10/dist-packages (from torchprofile) (2.4.1+cu121)\n",
            "Requirement already satisfied: torchvision>=0.4 in /usr/local/lib/python3.10/dist-packages (from torchprofile) (0.19.1+cu121)\n",
            "Requirement already satisfied: filelock in /usr/local/lib/python3.10/dist-packages (from torch>=1.4->torchprofile) (3.16.1)\n",
            "Requirement already satisfied: typing-extensions>=4.8.0 in /usr/local/lib/python3.10/dist-packages (from torch>=1.4->torchprofile) (4.12.2)\n",
            "Requirement already satisfied: sympy in /usr/local/lib/python3.10/dist-packages (from torch>=1.4->torchprofile) (1.13.3)\n",
            "Requirement already satisfied: networkx in /usr/local/lib/python3.10/dist-packages (from torch>=1.4->torchprofile) (3.3)\n",
            "Requirement already satisfied: jinja2 in /usr/local/lib/python3.10/dist-packages (from torch>=1.4->torchprofile) (3.1.4)\n",
            "Requirement already satisfied: fsspec in /usr/local/lib/python3.10/dist-packages (from torch>=1.4->torchprofile) (2024.6.1)\n",
            "Requirement already satisfied: pillow!=8.3.*,>=5.3.0 in /usr/local/lib/python3.10/dist-packages (from torchvision>=0.4->torchprofile) (10.4.0)\n",
            "Requirement already satisfied: MarkupSafe>=2.0 in /usr/local/lib/python3.10/dist-packages (from jinja2->torch>=1.4->torchprofile) (2.1.5)\n",
            "Requirement already satisfied: mpmath<1.4,>=1.1.0 in /usr/local/lib/python3.10/dist-packages (from sympy->torch>=1.4->torchprofile) (1.3.0)\n"
          ]
        }
      ]
    },
    {
      "cell_type": "code",
      "source": [
        "from google.colab import drive\n",
        "drive.mount('/content/drive')"
      ],
      "metadata": {
        "colab": {
          "base_uri": "https://localhost:8080/"
        },
        "id": "zT-ce25r67tW",
        "outputId": "56c795f2-571c-4662-967e-87d2ec11b6a2"
      },
      "execution_count": 4,
      "outputs": [
        {
          "output_type": "stream",
          "name": "stdout",
          "text": [
            "Drive already mounted at /content/drive; to attempt to forcibly remount, call drive.mount(\"/content/drive\", force_remount=True).\n"
          ]
        }
      ]
    },
    {
      "cell_type": "code",
      "execution_count": 5,
      "metadata": {
        "id": "jyH9fq-X6UtP"
      },
      "outputs": [],
      "source": [
        "import time\n",
        "import os\n",
        "import sys\n",
        "from tqdm import tqdm\n",
        "import matplotlib.pyplot as plt\n",
        "\n",
        "import torch\n",
        "import pandas as pd\n",
        "from torch import nn\n",
        "from torch import optim\n",
        "from torch.nn import functional as F\n",
        "import torch.utils.data as data\n",
        "\n",
        "import torchvision\n",
        "import torchvision.transforms as transforms\n",
        "import torchvision.models as models\n",
        "\n",
        "import torchprofile"
      ]
    },
    {
      "cell_type": "code",
      "execution_count": 6,
      "metadata": {
        "id": "ngu59Vvc6UtP"
      },
      "outputs": [],
      "source": [
        "train_dir = \"/content/drive/MyDrive/2024_fall/On-device ML/labs/lab2data/sign_mnist_train.csv\"\n",
        "test_dir = \"/content/drive/MyDrive/2024_fall/On-device ML/labs/lab2data/sign_mnist_test.csv\"\n",
        "\n",
        "device = torch.device(\"cuda\" if torch.cuda.is_available() else \"cpu\")"
      ]
    },
    {
      "cell_type": "code",
      "execution_count": 7,
      "metadata": {
        "id": "r7kSoKLU6UtQ"
      },
      "outputs": [],
      "source": [
        "import torch\n",
        "from torch.utils import data\n",
        "\n",
        "class SignLanguageDataset(data.Dataset):\n",
        "    def __init__(self, df, transform=None):\n",
        "        self.df = df\n",
        "        self.transform = transform\n",
        "\n",
        "    def __len__(self):\n",
        "        return len(self.df)\n",
        "\n",
        "    def __getitem__(self, index):\n",
        "        label = self.df.iloc[index, 0]\n",
        "        img = self.df.iloc[index, 1:].values.astype('uint8').reshape(28, 28)\n",
        "\n",
        "        if self.transform is not None:\n",
        "            img = self.transform(img)\n",
        "        else:\n",
        "            img = torch.from_numpy(img).unsqueeze(0).float()\n",
        "\n",
        "        return img, label\n"
      ]
    },
    {
      "cell_type": "code",
      "execution_count": 8,
      "metadata": {
        "colab": {
          "base_uri": "https://localhost:8080/"
        },
        "id": "uExNfPwt6UtR",
        "outputId": "719ed2e6-ab36-4e12-9421-47d3c0077cc5"
      },
      "outputs": [
        {
          "output_type": "stream",
          "name": "stdout",
          "text": [
            "[0, 1, 2, 3, 4, 5, 6, 7, 8, 10, 11, 12, 13, 14, 15, 16, 17, 18, 19, 20, 21, 22, 23, 24] 24\n",
            "[0, 1, 2, 3, 4, 5, 6, 7, 8, 10, 11, 12, 13, 14, 15, 16, 17, 18, 19, 20, 21, 22, 23, 24] 24\n"
          ]
        }
      ],
      "source": [
        "# Normalizing the data and transforming it to tensor\n",
        "transform = transforms.Compose([\n",
        "    transforms.ToPILImage(),\n",
        "    transforms.Lambda(lambda img: img.convert('RGB')),  # Convert grayscale to RGB\n",
        "    transforms.RandomHorizontalFlip(),\n",
        "    transforms.RandomRotation(20),\n",
        "    transforms.ToTensor(),\n",
        "    transforms.Normalize((0.5,), (0.5,))\n",
        "])\n",
        "\n",
        "# Load the data\n",
        "train_df = pd.read_csv(train_dir)\n",
        "test_df = pd.read_csv(test_dir)\n",
        "\n",
        "# Split the data into train and eval\n",
        "ratio = 0.8\n",
        "train_df, eval_df = train_df[:int(ratio*len(train_df))], train_df[int(ratio*len(train_df)):]\n",
        "\n",
        "# Print all labels\n",
        "print(sorted(train_df['label'].unique()), len(train_df['label'].unique()))\n",
        "print(sorted(eval_df['label'].unique()), len(eval_df['label'].unique()))\n",
        "\n",
        "train_dataset = SignLanguageDataset(train_df, transform=transform)\n",
        "eval_dataset = SignLanguageDataset(eval_df, transform=transform)\n",
        "test_dataset = SignLanguageDataset(test_df, transform=transform)"
      ]
    },
    {
      "cell_type": "code",
      "source": [
        "from torch.utils.data import DataLoader\n",
        "\n",
        "def check_image_size(dataset, num_samples=5):\n",
        "    loader = DataLoader(dataset, batch_size=1, shuffle=True)\n",
        "\n",
        "    print(\"Checking image sizes...\")\n",
        "    for i, (image, label) in enumerate(loader):\n",
        "        if i >= num_samples:  # Check only the first few samples\n",
        "            break\n",
        "        print(f\"Image {i+1}: Size {image.size()}\")\n",
        "\n",
        "check_image_size(train_dataset, num_samples=5)  # Check the first 5 samples\n"
      ],
      "metadata": {
        "colab": {
          "base_uri": "https://localhost:8080/"
        },
        "id": "ajiZ9CNO9Zg0",
        "outputId": "45f7f820-f34c-4619-ca78-4442535300db"
      },
      "execution_count": 9,
      "outputs": [
        {
          "output_type": "stream",
          "name": "stdout",
          "text": [
            "Checking image sizes...\n",
            "Image 1: Size torch.Size([1, 3, 28, 28])\n",
            "Image 2: Size torch.Size([1, 3, 28, 28])\n",
            "Image 3: Size torch.Size([1, 3, 28, 28])\n",
            "Image 4: Size torch.Size([1, 3, 28, 28])\n",
            "Image 5: Size torch.Size([1, 3, 28, 28])\n"
          ]
        }
      ]
    },
    {
      "cell_type": "code",
      "execution_count": 10,
      "metadata": {
        "colab": {
          "base_uri": "https://localhost:8080/",
          "height": 489
        },
        "id": "05_cGEO26UtS",
        "outputId": "0b45b800-b4bf-48fc-8db1-0713a57f30e7"
      },
      "outputs": [
        {
          "output_type": "stream",
          "name": "stderr",
          "text": [
            "WARNING:matplotlib.image:Clipping input data to the valid range for imshow with RGB data ([0..1] for floats or [0..255] for integers).\n"
          ]
        },
        {
          "output_type": "display_data",
          "data": {
            "text/plain": [
              "<Figure size 640x480 with 1 Axes>"
            ],
            "image/png": "[encoded data removed]"
          },
          "metadata": {}
        }
      ],
      "source": [
        "def show_img(img, label):\n",
        "    plt.imshow(img.squeeze().permute(1, 2, 0))\n",
        "    plt.title(label)\n",
        "    plt.show()\n",
        "\n",
        "show_img(*train_dataset[0])"
      ]
    },
    {
      "cell_type": "code",
      "execution_count": 11,
      "metadata": {
        "colab": {
          "base_uri": "https://localhost:8080/"
        },
        "id": "Yfufpsz46UtS",
        "outputId": "cdfce0d5-ef04-4fa0-a4c7-0dcbc8b6acc8"
      },
      "outputs": [
        {
          "output_type": "stream",
          "name": "stderr",
          "text": [
            "/usr/local/lib/python3.10/dist-packages/torchvision/models/_utils.py:208: UserWarning: The parameter 'pretrained' is deprecated since 0.13 and may be removed in the future, please use 'weights' instead.\n",
            "  warnings.warn(\n",
            "/usr/local/lib/python3.10/dist-packages/torchvision/models/_utils.py:223: UserWarning: Arguments other than a weight enum or `None` for 'weights' are deprecated since 0.13 and may be removed in the future. The current behavior is equivalent to passing `weights=ResNet50_Weights.IMAGENET1K_V1`. You can also use `weights=ResNet50_Weights.DEFAULT` to get the most up-to-date weights.\n",
            "  warnings.warn(msg)\n"
          ]
        }
      ],
      "source": [
        "# Use a pretrained ResNet model\n",
        "model = models.resnet50(pretrained=True)\n",
        "\n",
        "frozen = False\n",
        "if frozen:\n",
        "    for param in model.parameters():\n",
        "        param.requires_grad = False\n",
        "\n",
        "# Add a new layer to the model\n",
        "last_layer_dim = model.fc.in_features\n",
        "model.fc = nn.Linear(last_layer_dim, 26) # 26 classes (well excluding J and Z)\n",
        "\n",
        "# Define the loss function and optimizer\n",
        "criterion = nn.CrossEntropyLoss()\n",
        "optimizer = optim.Adam(model.parameters(), lr=0.001)\n",
        "\n",
        "# Define the data loaders\n",
        "train_loader = data.DataLoader(train_dataset, batch_size=256, shuffle=True)\n",
        "eval_loader = data.DataLoader(eval_dataset, batch_size=256, shuffle=False)\n",
        "test_loader = data.DataLoader(test_dataset, batch_size=256, shuffle=False)"
      ]
    },
    {
      "cell_type": "code",
      "execution_count": 12,
      "metadata": {
        "id": "uQZsoU-I6UtT"
      },
      "outputs": [],
      "source": [
        "def train(model, train_loader, optimizer, criterion, device):\n",
        "    model.train()\n",
        "    train_loss = 0\n",
        "    correct = 0\n",
        "    total = 0\n",
        "\n",
        "    for img, label in tqdm(train_loader, desc=\"Training\"):\n",
        "        img, label = img.to(device), label.to(device)\n",
        "        optimizer.zero_grad()\n",
        "        output = model(img)\n",
        "        loss = criterion(output, label)\n",
        "        loss.backward()\n",
        "        optimizer.step()\n",
        "\n",
        "        train_loss += loss.item()\n",
        "        _, predicted = torch.max(output, 1)\n",
        "        total += label.size(0)\n",
        "        correct += (predicted == label).sum().item()\n",
        "\n",
        "    avg_loss = train_loss / len(train_loader)\n",
        "    accuracy = correct / total\n",
        "    return avg_loss, accuracy\n",
        "\n",
        "def evaluate(model, eval_loader, criterion, device):\n",
        "    model.eval()\n",
        "    eval_loss = 0\n",
        "    correct = 0\n",
        "    total = 0\n",
        "\n",
        "    with torch.no_grad():\n",
        "        for img, label in tqdm(eval_loader, desc=\"Evaluating\"):\n",
        "            img, label = img.to(device), label.to(device)\n",
        "            output = model(img)\n",
        "            loss = criterion(output, label)\n",
        "            eval_loss += loss.item()\n",
        "            _, predicted = torch.max(output, 1)\n",
        "            total += label.size(0)\n",
        "            correct += (predicted == label).sum().item()\n",
        "\n",
        "    avg_loss = eval_loss / len(eval_loader)\n",
        "    accuracy = correct / total\n",
        "    return avg_loss, accuracy\n",
        "\n",
        "def test(model, test_loader, criterion, device):\n",
        "    model.eval()\n",
        "    test_loss = 0\n",
        "    correct = 0\n",
        "    total = 0\n",
        "\n",
        "    with torch.no_grad():\n",
        "        for img, label in tqdm(test_loader, desc=\"Testing\"):\n",
        "            img, label = img.to(device), label.to(device)\n",
        "            output = model(img)\n",
        "            loss = criterion(output, label)\n",
        "            test_loss += loss.item()\n",
        "            _, predicted = torch.max(output, 1)\n",
        "            total += label.size(0)\n",
        "            correct += (predicted == label).sum().item()\n",
        "\n",
        "    avg_loss = test_loss / len(test_loader)\n",
        "    accuracy = correct / total\n",
        "    return avg_loss, accuracy"
      ]
    },
    {
      "cell_type": "code",
      "execution_count": 13,
      "metadata": {
        "colab": {
          "base_uri": "https://localhost:8080/"
        },
        "id": "JiUdsc8w6UtU",
        "outputId": "d6586b6d-ed32-464b-8edc-0f60cc200505"
      },
      "outputs": [
        {
          "output_type": "stream",
          "name": "stderr",
          "text": [
            "Training: 100%|██████████| 86/86 [00:30<00:00,  2.80it/s]\n",
            "Evaluating: 100%|██████████| 22/22 [00:05<00:00,  4.22it/s]\n"
          ]
        },
        {
          "output_type": "stream",
          "name": "stdout",
          "text": [
            "Epoch 1/5\n",
            "Train Loss: 0.764 | Train Accuracy: 0.749\n",
            "Eval Loss: 0.304 | Eval Accuracy: 0.904\n"
          ]
        },
        {
          "output_type": "stream",
          "name": "stderr",
          "text": [
            "Training: 100%|██████████| 86/86 [00:25<00:00,  3.43it/s]\n",
            "Evaluating: 100%|██████████| 22/22 [00:05<00:00,  3.99it/s]\n"
          ]
        },
        {
          "output_type": "stream",
          "name": "stdout",
          "text": [
            "Epoch 2/5\n",
            "Train Loss: 0.139 | Train Accuracy: 0.957\n",
            "Eval Loss: 0.077 | Eval Accuracy: 0.979\n"
          ]
        },
        {
          "output_type": "stream",
          "name": "stderr",
          "text": [
            "Training: 100%|██████████| 86/86 [00:27<00:00,  3.18it/s]\n",
            "Evaluating: 100%|██████████| 22/22 [00:04<00:00,  4.55it/s]\n"
          ]
        },
        {
          "output_type": "stream",
          "name": "stdout",
          "text": [
            "Epoch 3/5\n",
            "Train Loss: 0.080 | Train Accuracy: 0.975\n",
            "Eval Loss: 0.088 | Eval Accuracy: 0.973\n"
          ]
        },
        {
          "output_type": "stream",
          "name": "stderr",
          "text": [
            "Training: 100%|██████████| 86/86 [00:25<00:00,  3.32it/s]\n",
            "Evaluating: 100%|██████████| 22/22 [00:04<00:00,  4.54it/s]\n"
          ]
        },
        {
          "output_type": "stream",
          "name": "stdout",
          "text": [
            "Epoch 4/5\n",
            "Train Loss: 0.065 | Train Accuracy: 0.979\n",
            "Eval Loss: 0.158 | Eval Accuracy: 0.958\n"
          ]
        },
        {
          "output_type": "stream",
          "name": "stderr",
          "text": [
            "Training: 100%|██████████| 86/86 [00:25<00:00,  3.37it/s]\n",
            "Evaluating: 100%|██████████| 22/22 [00:05<00:00,  3.95it/s]\n"
          ]
        },
        {
          "output_type": "stream",
          "name": "stdout",
          "text": [
            "Epoch 5/5\n",
            "Train Loss: 0.055 | Train Accuracy: 0.984\n",
            "Eval Loss: 0.095 | Eval Accuracy: 0.980\n"
          ]
        },
        {
          "output_type": "stream",
          "name": "stderr",
          "text": [
            "Testing: 100%|██████████| 29/29 [00:06<00:00,  4.48it/s]"
          ]
        },
        {
          "output_type": "stream",
          "name": "stdout",
          "text": [
            "Test Loss: 0.133 | Test Accuracy: 0.961\n"
          ]
        },
        {
          "output_type": "stream",
          "name": "stderr",
          "text": [
            "\n"
          ]
        }
      ],
      "source": [
        "# Training loop\n",
        "n_epochs = 5 if str(device) == 'cuda' else 2\n",
        "train_losses = []\n",
        "eval_losses = []\n",
        "train_acc = []\n",
        "eval_acc = []\n",
        "\n",
        "model.to(device)\n",
        "\n",
        "for epoch in range(n_epochs):\n",
        "    train_loss, train_accuracy = train(model, train_loader, optimizer, criterion, device)\n",
        "    eval_loss, eval_accuracy = evaluate(model, eval_loader, criterion, device)\n",
        "\n",
        "    train_losses.append(train_loss)\n",
        "    train_acc.append(train_accuracy)\n",
        "    eval_losses.append(eval_loss)\n",
        "    eval_acc.append(eval_accuracy)\n",
        "\n",
        "    print(f\"Epoch {epoch+1}/{n_epochs}\")\n",
        "    print(f\"Train Loss: {train_loss:.3f} | Train Accuracy: {train_accuracy:.3f}\")\n",
        "    print(f\"Eval Loss: {eval_loss:.3f} | Eval Accuracy: {eval_accuracy:.3f}\")\n",
        "\n",
        "test_loss, test_accuracy = test(model, test_loader, criterion, device)\n",
        "print(f\"Test Loss: {test_loss:.3f} | Test Accuracy: {test_accuracy:.3f}\")"
      ]
    },
    {
      "cell_type": "code",
      "execution_count": 14,
      "metadata": {
        "colab": {
          "base_uri": "https://localhost:8080/",
          "height": 296
        },
        "id": "9CN-vqoX6UtU",
        "outputId": "dc254076-f00b-4c5c-9483-f58ca7736f53"
      },
      "outputs": [
        {
          "output_type": "display_data",
          "data": {
            "text/plain": [
              "<Figure size 1400x500 with 2 Axes>"
            ],
            "image/png": "[encoded data removed]"
          },
          "metadata": {}
        }
      ],
      "source": [
        "# Create a 1x2 subplot to display the loss and accuracy side by side\n",
        "plt.figure(figsize=(14, 5))\n",
        "\n",
        "# Plot the training and evaluation loss on the left\n",
        "plt.subplot(1, 2, 1)\n",
        "plt.plot(train_losses, label='Train Loss')\n",
        "plt.plot(eval_losses, label='Eval Loss')\n",
        "plt.axhline(y=test_loss, color='r', linestyle='--', label='Test Loss')\n",
        "\n",
        "plt.xlabel('Epochs')\n",
        "plt.ylabel('Loss')\n",
        "plt.title('Training vs Evaluation Loss')\n",
        "plt.legend()\n",
        "\n",
        "# Plot the training and evaluation accuracy on the right\n",
        "plt.subplot(1, 2, 2)\n",
        "plt.plot(train_acc, label='Train Accuracy')\n",
        "plt.plot(eval_acc, label='Eval Accuracy')\n",
        "plt.axhline(y=test_accuracy, color='r', linestyle='--', label='Test Accuracy')\n",
        "\n",
        "plt.xlabel('Epochs')\n",
        "plt.ylabel('Accuracy')\n",
        "plt.title('Training vs Evaluation Accuracy')\n",
        "plt.legend()\n",
        "\n",
        "# Display the plots\n",
        "plt.tight_layout()\n",
        "plt.show()"
      ]
    },
    {
      "cell_type": "code",
      "execution_count": 15,
      "metadata": {
        "id": "XBbfJGTY6UtV"
      },
      "outputs": [],
      "source": [
        "def measure_inference_latency(model, data_loader, device):\n",
        "    model.eval()\n",
        "    total_time = 0.0\n",
        "    warmup = True\n",
        "\n",
        "    with torch.no_grad():\n",
        "        for i, (img, label) in enumerate(data_loader):\n",
        "            img = img.to(device)\n",
        "            start_time = time.time()\n",
        "\n",
        "            # Forward pass\n",
        "            model(img)\n",
        "\n",
        "            # Record time\n",
        "            latency = time.time() - start_time\n",
        "\n",
        "            # Skip the warmup run\n",
        "            if warmup:\n",
        "                warmup = False\n",
        "                continue\n",
        "\n",
        "            total_time += latency\n",
        "\n",
        "    avg_latency = total_time / (len(data_loader) - 1)  # Exclude warmup\n",
        "    return avg_latency\n",
        "\n",
        "def count_parameters(model):\n",
        "    return sum(p.numel() for p in model.parameters() if p.requires_grad)\n",
        "\n",
        "def count_flops(model, data_loader, device):\n",
        "    model.eval()\n",
        "    img, _ = next(iter(data_loader))  # Get one batch\n",
        "    img = img.to(device)\n",
        "\n",
        "    # Profile FLOPs\n",
        "    flops = torchprofile.profile_macs(model, img)\n",
        "    return flops"
      ]
    },
    {
      "cell_type": "code",
      "execution_count": 16,
      "metadata": {
        "colab": {
          "base_uri": "https://localhost:8080/"
        },
        "id": "SqKmQne46UtV",
        "outputId": "11d9b654-2650-41ba-fd77-2297a7a30ba5"
      },
      "outputs": [
        {
          "output_type": "stream",
          "name": "stdout",
          "text": [
            "Number of Parameters: 23561306\n",
            "Number of FLOPs: 20330315776\n",
            "Average Inference Latency: 0.008913 seconds\n"
          ]
        }
      ],
      "source": [
        "# Calculate the number of parameters, FLOPs, and inference latency\n",
        "n_params = count_parameters(model)\n",
        "flops = count_flops(model, test_loader, device)\n",
        "latency = measure_inference_latency(model, test_loader, device)\n",
        "\n",
        "print(f\"Number of Parameters: {n_params}\")\n",
        "print(f\"Number of FLOPs: {flops}\")\n",
        "print(f\"Average Inference Latency: {latency:.6f} seconds\")"
      ]
    },
    {
      "cell_type": "code",
      "source": [],
      "metadata": {
        "id": "yYXVRdAi-cvH"
      },
      "execution_count": 16,
      "outputs": []
    },
    {
      "cell_type": "code",
      "source": [
        "!pip install codecarbon"
      ],
      "metadata": {
        "colab": {
          "base_uri": "https://localhost:8080/"
        },
        "id": "pmDSDVaF-3Dk",
        "outputId": "5a49593b-4f74-4bd2-cdd5-02f77fda9f1f"
      },
      "execution_count": 17,
      "outputs": [
        {
          "output_type": "stream",
          "name": "stdout",
          "text": [
            "Requirement already satisfied: codecarbon in /usr/local/lib/python3.10/dist-packages (2.7.1)\n",
            "Requirement already satisfied: arrow in /usr/local/lib/python3.10/dist-packages (from codecarbon) (1.3.0)\n",
            "Requirement already satisfied: click in /usr/local/lib/python3.10/dist-packages (from codecarbon) (8.1.7)\n",
            "Requirement already satisfied: pandas in /usr/local/lib/python3.10/dist-packages (from codecarbon) (2.1.4)\n",
            "Requirement already satisfied: prometheus-client in /usr/local/lib/python3.10/dist-packages (from codecarbon) (0.21.0)\n",
            "Requirement already satisfied: psutil in /usr/local/lib/python3.10/dist-packages (from codecarbon) (5.9.5)\n",
            "Requirement already satisfied: py-cpuinfo in /usr/local/lib/python3.10/dist-packages (from codecarbon) (9.0.0)\n",
            "Requirement already satisfied: pynvml in /usr/local/lib/python3.10/dist-packages (from codecarbon) (11.5.3)\n",
            "Requirement already satisfied: questionary in /usr/local/lib/python3.10/dist-packages (from codecarbon) (2.0.1)\n",
            "Requirement already satisfied: rapidfuzz in /usr/local/lib/python3.10/dist-packages (from codecarbon) (3.10.0)\n",
            "Requirement already satisfied: requests in /usr/local/lib/python3.10/dist-packages (from codecarbon) (2.32.3)\n",
            "Requirement already satisfied: rich in /usr/local/lib/python3.10/dist-packages (from codecarbon) (13.8.1)\n",
            "Requirement already satisfied: typer in /usr/local/lib/python3.10/dist-packages (from codecarbon) (0.12.5)\n",
            "Requirement already satisfied: python-dateutil>=2.7.0 in /usr/local/lib/python3.10/dist-packages (from arrow->codecarbon) (2.8.2)\n",
            "Requirement already satisfied: types-python-dateutil>=2.8.10 in /usr/local/lib/python3.10/dist-packages (from arrow->codecarbon) (2.9.0.20240906)\n",
            "Requirement already satisfied: numpy<2,>=1.22.4 in /usr/local/lib/python3.10/dist-packages (from pandas->codecarbon) (1.26.4)\n",
            "Requirement already satisfied: pytz>=2020.1 in /usr/local/lib/python3.10/dist-packages (from pandas->codecarbon) (2024.2)\n",
            "Requirement already satisfied: tzdata>=2022.1 in /usr/local/lib/python3.10/dist-packages (from pandas->codecarbon) (2024.1)\n",
            "Requirement already satisfied: prompt_toolkit<=3.0.36,>=2.0 in /usr/local/lib/python3.10/dist-packages (from questionary->codecarbon) (3.0.36)\n",
            "Requirement already satisfied: charset-normalizer<4,>=2 in /usr/local/lib/python3.10/dist-packages (from requests->codecarbon) (3.3.2)\n",
            "Requirement already satisfied: idna<4,>=2.5 in /usr/local/lib/python3.10/dist-packages (from requests->codecarbon) (3.10)\n",
            "Requirement already satisfied: urllib3<3,>=1.21.1 in /usr/local/lib/python3.10/dist-packages (from requests->codecarbon) (2.2.3)\n",
            "Requirement already satisfied: certifi>=2017.4.17 in /usr/local/lib/python3.10/dist-packages (from requests->codecarbon) (2024.8.30)\n",
            "Requirement already satisfied: markdown-it-py>=2.2.0 in /usr/local/lib/python3.10/dist-packages (from rich->codecarbon) (3.0.0)\n",
            "Requirement already satisfied: pygments<3.0.0,>=2.13.0 in /usr/local/lib/python3.10/dist-packages (from rich->codecarbon) (2.18.0)\n",
            "Requirement already satisfied: typing-extensions>=3.7.4.3 in /usr/local/lib/python3.10/dist-packages (from typer->codecarbon) (4.12.2)\n",
            "Requirement already satisfied: shellingham>=1.3.0 in /usr/local/lib/python3.10/dist-packages (from typer->codecarbon) (1.5.4)\n",
            "Requirement already satisfied: mdurl~=0.1 in /usr/local/lib/python3.10/dist-packages (from markdown-it-py>=2.2.0->rich->codecarbon) (0.1.2)\n",
            "Requirement already satisfied: wcwidth in /usr/local/lib/python3.10/dist-packages (from prompt_toolkit<=3.0.36,>=2.0->questionary->codecarbon) (0.2.13)\n",
            "Requirement already satisfied: six>=1.5 in /usr/local/lib/python3.10/dist-packages (from python-dateutil>=2.7.0->arrow->codecarbon) (1.16.0)\n"
          ]
        }
      ]
    },
    {
      "cell_type": "code",
      "source": [
        "import time\n",
        "import torch\n",
        "from codecarbon import EmissionsTracker\n",
        "\n",
        "def measure_inference_energy_and_carbon(model, data_loader, device):\n",
        "    model.eval()\n",
        "    warmup = True\n",
        "\n",
        "    # Create EmissionsTracker instance\n",
        "    tracker = EmissionsTracker()\n",
        "\n",
        "    total_energy_kwh=0\n",
        "    total_carbon_kg=0\n",
        "\n",
        "    with torch.no_grad():\n",
        "        # Start tracking energy and carbon emissions\n",
        "        tracker.start()\n",
        "\n",
        "        for i, (img, label) in enumerate(data_loader):\n",
        "            img = img.to(device)\n",
        "\n",
        "            model(img)\n",
        "\n",
        "            if warmup:\n",
        "                warmup = False\n",
        "                continue\n",
        "\n",
        "        # Stop tracking and get emissions report\n",
        "        emissions_data = tracker.stop()\n",
        "\n",
        "    total_emission=tracker.flush()\n",
        "    return total_emission, total_emission / (len(data_loader) - 1)\n",
        "\n",
        "\n",
        "total_carbon_emission, avg_carbon_emission= measure_inference_energy_and_carbon(model, test_loader, device)\n",
        "\n"
      ],
      "metadata": {
        "colab": {
          "base_uri": "https://localhost:8080/"
        },
        "id": "qheN9eEp-cy-",
        "outputId": "2a1b5f10-02b9-4855-eb13-97018c029c22"
      },
      "execution_count": 44,
      "outputs": [
        {
          "output_type": "stream",
          "name": "stderr",
          "text": [
            "[codecarbon INFO @ 17:41:01] [setup] RAM Tracking...\n",
            "[codecarbon INFO @ 17:41:01] [setup] GPU Tracking...\n",
            "[codecarbon INFO @ 17:41:01] Tracking Nvidia GPU via pynvml\n",
            "[codecarbon INFO @ 17:41:01] [setup] CPU Tracking...\n",
            "[codecarbon WARNING @ 17:41:01] No CPU tracking mode found. Falling back on CPU constant mode. \n",
            " Linux OS detected: Please ensure RAPL files exist at \\sys\\class\\powercap\\intel-rapl to measure CPU\n",
            "\n",
            "[codecarbon WARNING @ 17:41:02] We saw that you have a Intel(R) Xeon(R) CPU @ 2.00GHz but we don't know it. Please contact us.\n",
            "[codecarbon INFO @ 17:41:02] CPU Model on constant consumption mode: Intel(R) Xeon(R) CPU @ 2.00GHz\n",
            "[codecarbon INFO @ 17:41:02] >>> Tracker's metadata:\n",
            "[codecarbon INFO @ 17:41:02]   Platform system: Linux-6.1.85+-x86_64-with-glibc2.35\n",
            "[codecarbon INFO @ 17:41:02]   Python version: 3.10.12\n",
            "[codecarbon INFO @ 17:41:02]   CodeCarbon version: 2.7.1\n",
            "[codecarbon INFO @ 17:41:02]   Available RAM : 12.675 GB\n",
            "[codecarbon INFO @ 17:41:02]   CPU count: 2\n",
            "[codecarbon INFO @ 17:41:02]   CPU model: Intel(R) Xeon(R) CPU @ 2.00GHz\n",
            "[codecarbon INFO @ 17:41:02]   GPU count: 1\n",
            "[codecarbon INFO @ 17:41:02]   GPU model: 1 x Tesla T4\n",
            "[codecarbon INFO @ 17:41:02] Saving emissions data to file /content/emissions.csv\n",
            "[codecarbon INFO @ 17:41:08] Energy consumed for RAM : 0.000008 kWh. RAM Power : 4.7530388832092285 W\n",
            "[codecarbon INFO @ 17:41:08] Energy consumed for all GPUs : 0.000059 kWh. Total GPU Power : 36.96438729565327 W\n",
            "[codecarbon INFO @ 17:41:08] Energy consumed for all CPUs : 0.000068 kWh. Total CPU Power : 42.5 W\n",
            "[codecarbon INFO @ 17:41:08] 0.000134 kWh of electricity used since the beginning.\n",
            "[codecarbon INFO @ 17:41:08] Energy consumed for RAM : 0.000008 kWh. RAM Power : 4.7530388832092285 W\n",
            "[codecarbon INFO @ 17:41:08] Energy consumed for all GPUs : 0.000059 kWh. Total GPU Power : 0.0 W\n",
            "[codecarbon INFO @ 17:41:08] Energy consumed for all CPUs : 0.000068 kWh. Total CPU Power : 42.5 W\n",
            "[codecarbon INFO @ 17:41:08] 0.000134 kWh of electricity used since the beginning.\n"
          ]
        }
      ]
    },
    {
      "cell_type": "code",
      "source": [
        "total_carbon_emission, avg_carbon_emission"
      ],
      "metadata": {
        "colab": {
          "base_uri": "https://localhost:8080/"
        },
        "id": "sQJktLjhK7ZQ",
        "outputId": "25ca551f-a564-4133-c870-f9d41743e977"
      },
      "execution_count": 45,
      "outputs": [
        {
          "output_type": "execute_result",
          "data": {
            "text/plain": [
              "(4.6775389626220324e-05, 1.6705496295078687e-06)"
            ]
          },
          "metadata": {},
          "execution_count": 45
        }
      ]
    },
    {
      "cell_type": "code",
      "source": [
        "import pandas as pd\n",
        "df=pd.read_csv('emissions.csv')\n",
        "print(\"total emission\",df['emissions'][len(df)-1],\"kg\" ) #noted as emissions on emissions.csv\n",
        "print(\"total electricity consumed\",df['energy_consumed'][len(df)-1], \"kWh\") # energy_consumed in csv = total reported kwh of electricity used since beginning\n",
        "\n",
        "print(\"average emission\",df['emissions'][len(df)-1]/(len(test_loader)-1),\"kg\" ) #noted as emissions on emissions.csv\n",
        "print(\"average electricity consumed\",df['energy_consumed'][len(df)-1]/(len(test_loader)-1), \"kWh\")\n"
      ],
      "metadata": {
        "colab": {
          "base_uri": "https://localhost:8080/"
        },
        "id": "vAgpfy4vHQ_G",
        "outputId": "e8096968-fe73-460d-d9f4-7d3365b8e47f"
      },
      "execution_count": 46,
      "outputs": [
        {
          "output_type": "stream",
          "name": "stdout",
          "text": [
            "total emission 4.677538962622032e-05 kg\n",
            "total electricity consumed 0.0001339400894073 kWh\n",
            "average emission 1.6705496295078685e-06 kg\n",
            "average electricity consumed 4.783574621689286e-06 kWh\n"
          ]
        }
      ]
    },
    {
      "cell_type": "markdown",
      "source": [
        "Base (Resnet50)\n",
        "\n",
        "-Input size\t: torch.Size([1, 3, 28, 28]\n",
        "\n",
        "-Number of parameters\t: 23561306\n",
        "\n",
        "-Energy (kWh)\t: 4.783574621689286e-06 kWh\n",
        "\n",
        "-Carbon emissions (kg): 1.6705496295078685e-06 kg\n",
        "\n",
        "\n",
        "\n",
        "\n",
        "Smaller input (Resnet50, ?)\n",
        "\n",
        "\n",
        "\n",
        "Fewer parameters (Resnet18, torch.Size([1, 3, 28, 28])"
      ],
      "metadata": {
        "id": "sXJDp1wfM2HR"
      }
    },
    {
      "cell_type": "code",
      "source": [],
      "metadata": {
        "id": "ksR4cT0YJ3XI"
      },
      "execution_count": null,
      "outputs": []
    }
  ],
  "metadata": {
    "kernelspec": {
      "display_name": "Python 3",
      "name": "python3"
    },
    "language_info": {
      "codemirror_mode": {
        "name": "ipython",
        "version": 3
      },
      "file_extension": ".py",
      "mimetype": "text/x-python",
      "name": "python",
      "nbconvert_exporter": "python",
      "pygments_lexer": "ipython3",
      "version": "3.8.19"
    },
    "colab": {
      "provenance": [],
      "gpuType": "T4"
    },
    "accelerator": "GPU"
  },
  "nbformat": 4,
  "nbformat_minor": 0
}